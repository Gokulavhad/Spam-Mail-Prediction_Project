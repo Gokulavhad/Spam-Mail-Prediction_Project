{
  "cells": [
    {
      "metadata": {
        "id": "cqK6knUiuht_"
      },
      "cell_type": "markdown",
      "source": [
        "## Import Libraries"
      ]
    },
    {
      "metadata": {
        "id": "nE7pdbcyt5Ba",
        "trusted": true
      },
      "cell_type": "code",
      "source": [
        "# Handling Data\n",
        "import pandas as pd\n",
        "import numpy as np\n",
        "\n",
        "# Visialization\n",
        "import matplotlib.pyplot as plt\n",
        "import seaborn as sns\n",
        "sns.set_style('whitegrid')\n",
        "\n",
        "# For Text processing \n",
        "import nltk\n",
        "from nltk.corpus import stopwords \n",
        "from nltk.tokenize import word_tokenize\n",
        "# nltk.download('punkt')\n",
        "# nltk.download('stopwords')\n",
        "\n",
        "# ML\n",
        "from sklearn.model_selection import train_test_split\n",
        "from sklearn.feature_extraction.text import CountVectorizer\n",
        "from sklearn.linear_model import LogisticRegression\n",
        "from sklearn.model_selection import GridSearchCV\n",
        "\n",
        "# DL\n",
        "from tensorflow.keras.utils import plot_model\n",
        "from tensorflow.keras.layers import Conv1D, Dense, MaxPooling1D, BatchNormalization, Flatten, Dropout\n",
        "from tensorflow.keras.models import Sequential\n",
        "\n",
        "#Accuracy Metrics\n",
        "from sklearn.metrics import accuracy_score, classification_report, confusion_matrix\n",
        "\n"
      ],
      "execution_count": null,
      "outputs": []
    },
    {
      "metadata": {
        "id": "S8F2Rzv9ObNl"
      },
      "cell_type": "markdown",
      "source": [
        "## Reading Data"
      ]
    },
    {
      "metadata": {
        "id": "Qrz2mhZvuK6d",
        "trusted": true
      },
      "cell_type": "code",
      "source": [
        "df = pd.read_csv('/content/Input/spam_ham_dataset.csv')\n",
        "# Removing Unnecessary column\n",
        "df.drop('Unnamed: 0', axis=1, inplace = True)\n",
        "# Changing column names\n",
        "df.columns = ['label', 'text', 'class']"
      ],
      "execution_count": null,
      "outputs": []
    },
    {
      "cell_type": "code",
      "source": [
        "from google.colab import drive\n",
        "drive.mount('/content/drive')"
      ],
      "metadata": {
        "colab": {
          "base_uri": "https://localhost:8080/"
        },
        "id": "J0e57-qFRRQ0",
        "outputId": "84f4fb47-9d20-4eb3-fa11-5eed1a15d41b"
      },
      "execution_count": null,
      "outputs": [
        {
          "output_type": "stream",
          "name": "stdout",
          "text": [
            "Drive already mounted at /content/drive; to attempt to forcibly remount, call drive.mount(\"/content/drive\", force_remount=True).\n"
          ]
        }
      ]
    },
    {
      "metadata": {
        "id": "4V4Ypj1SuxxR",
        "trusted": true,
        "colab": {
          "base_uri": "https://localhost:8080/",
          "height": 206
        },
        "outputId": "2cc72084-dcec-4913-9022-7705fe8038c3"
      },
      "cell_type": "code",
      "source": [
        "df.head()"
      ],
      "execution_count": null,
      "outputs": [
        {
          "output_type": "execute_result",
          "data": {
            "text/plain": [
              "  label                                               text  class\n",
              "0   ham  Subject: enron methanol ; meter # : 988291\\r\\n...      0\n",
              "1   ham  Subject: hpl nom for january 9 , 2001\\r\\n( see...      0\n",
              "2   ham  Subject: neon retreat\\r\\nho ho ho , we ' re ar...      0\n",
              "3  spam  Subject: photoshop , windows , office . cheap ...      1\n",
              "4   ham  Subject: re : indian springs\\r\\nthis deal is t...      0"
            ],
            "text/html": [
              "\n",
              "  <div id=\"df-31bed0c6-70fc-4efa-9f10-a994b561ab25\">\n",
              "    <div class=\"colab-df-container\">\n",
              "      <div>\n",
              "<style scoped>\n",
              "    .dataframe tbody tr th:only-of-type {\n",
              "        vertical-align: middle;\n",
              "    }\n",
              "\n",
              "    .dataframe tbody tr th {\n",
              "        vertical-align: top;\n",
              "    }\n",
              "\n",
              "    .dataframe thead th {\n",
              "        text-align: right;\n",
              "    }\n",
              "</style>\n",
              "<table border=\"1\" class=\"dataframe\">\n",
              "  <thead>\n",
              "    <tr style=\"text-align: right;\">\n",
              "      <th></th>\n",
              "      <th>label</th>\n",
              "      <th>text</th>\n",
              "      <th>class</th>\n",
              "    </tr>\n",
              "  </thead>\n",
              "  <tbody>\n",
              "    <tr>\n",
              "      <th>0</th>\n",
              "      <td>ham</td>\n",
              "      <td>Subject: enron methanol ; meter # : 988291\\r\\n...</td>\n",
              "      <td>0</td>\n",
              "    </tr>\n",
              "    <tr>\n",
              "      <th>1</th>\n",
              "      <td>ham</td>\n",
              "      <td>Subject: hpl nom for january 9 , 2001\\r\\n( see...</td>\n",
              "      <td>0</td>\n",
              "    </tr>\n",
              "    <tr>\n",
              "      <th>2</th>\n",
              "      <td>ham</td>\n",
              "      <td>Subject: neon retreat\\r\\nho ho ho , we ' re ar...</td>\n",
              "      <td>0</td>\n",
              "    </tr>\n",
              "    <tr>\n",
              "      <th>3</th>\n",
              "      <td>spam</td>\n",
              "      <td>Subject: photoshop , windows , office . cheap ...</td>\n",
              "      <td>1</td>\n",
              "    </tr>\n",
              "    <tr>\n",
              "      <th>4</th>\n",
              "      <td>ham</td>\n",
              "      <td>Subject: re : indian springs\\r\\nthis deal is t...</td>\n",
              "      <td>0</td>\n",
              "    </tr>\n",
              "  </tbody>\n",
              "</table>\n",
              "</div>\n",
              "      <button class=\"colab-df-convert\" onclick=\"convertToInteractive('df-31bed0c6-70fc-4efa-9f10-a994b561ab25')\"\n",
              "              title=\"Convert this dataframe to an interactive table.\"\n",
              "              style=\"display:none;\">\n",
              "        \n",
              "  <svg xmlns=\"http://www.w3.org/2000/svg\" height=\"24px\"viewBox=\"0 0 24 24\"\n",
              "       width=\"24px\">\n",
              "    <path d=\"M0 0h24v24H0V0z\" fill=\"none\"/>\n",
              "    <path d=\"M18.56 5.44l.94 2.06.94-2.06 2.06-.94-2.06-.94-.94-2.06-.94 2.06-2.06.94zm-11 1L8.5 8.5l.94-2.06 2.06-.94-2.06-.94L8.5 2.5l-.94 2.06-2.06.94zm10 10l.94 2.06.94-2.06 2.06-.94-2.06-.94-.94-2.06-.94 2.06-2.06.94z\"/><path d=\"M17.41 7.96l-1.37-1.37c-.4-.4-.92-.59-1.43-.59-.52 0-1.04.2-1.43.59L10.3 9.45l-7.72 7.72c-.78.78-.78 2.05 0 2.83L4 21.41c.39.39.9.59 1.41.59.51 0 1.02-.2 1.41-.59l7.78-7.78 2.81-2.81c.8-.78.8-2.07 0-2.86zM5.41 20L4 18.59l7.72-7.72 1.47 1.35L5.41 20z\"/>\n",
              "  </svg>\n",
              "      </button>\n",
              "      \n",
              "  <style>\n",
              "    .colab-df-container {\n",
              "      display:flex;\n",
              "      flex-wrap:wrap;\n",
              "      gap: 12px;\n",
              "    }\n",
              "\n",
              "    .colab-df-convert {\n",
              "      background-color: #E8F0FE;\n",
              "      border: none;\n",
              "      border-radius: 50%;\n",
              "      cursor: pointer;\n",
              "      display: none;\n",
              "      fill: #1967D2;\n",
              "      height: 32px;\n",
              "      padding: 0 0 0 0;\n",
              "      width: 32px;\n",
              "    }\n",
              "\n",
              "    .colab-df-convert:hover {\n",
              "      background-color: #E2EBFA;\n",
              "      box-shadow: 0px 1px 2px rgba(60, 64, 67, 0.3), 0px 1px 3px 1px rgba(60, 64, 67, 0.15);\n",
              "      fill: #174EA6;\n",
              "    }\n",
              "\n",
              "    [theme=dark] .colab-df-convert {\n",
              "      background-color: #3B4455;\n",
              "      fill: #D2E3FC;\n",
              "    }\n",
              "\n",
              "    [theme=dark] .colab-df-convert:hover {\n",
              "      background-color: #434B5C;\n",
              "      box-shadow: 0px 1px 3px 1px rgba(0, 0, 0, 0.15);\n",
              "      filter: drop-shadow(0px 1px 2px rgba(0, 0, 0, 0.3));\n",
              "      fill: #FFFFFF;\n",
              "    }\n",
              "  </style>\n",
              "\n",
              "      <script>\n",
              "        const buttonEl =\n",
              "          document.querySelector('#df-31bed0c6-70fc-4efa-9f10-a994b561ab25 button.colab-df-convert');\n",
              "        buttonEl.style.display =\n",
              "          google.colab.kernel.accessAllowed ? 'block' : 'none';\n",
              "\n",
              "        async function convertToInteractive(key) {\n",
              "          const element = document.querySelector('#df-31bed0c6-70fc-4efa-9f10-a994b561ab25');\n",
              "          const dataTable =\n",
              "            await google.colab.kernel.invokeFunction('convertToInteractive',\n",
              "                                                     [key], {});\n",
              "          if (!dataTable) return;\n",
              "\n",
              "          const docLinkHtml = 'Like what you see? Visit the ' +\n",
              "            '<a target=\"_blank\" href=https://colab.research.google.com/notebooks/data_table.ipynb>data table notebook</a>'\n",
              "            + ' to learn more about interactive tables.';\n",
              "          element.innerHTML = '';\n",
              "          dataTable['output_type'] = 'display_data';\n",
              "          await google.colab.output.renderOutput(dataTable, element);\n",
              "          const docLink = document.createElement('div');\n",
              "          docLink.innerHTML = docLinkHtml;\n",
              "          element.appendChild(docLink);\n",
              "        }\n",
              "      </script>\n",
              "    </div>\n",
              "  </div>\n",
              "  "
            ]
          },
          "metadata": {},
          "execution_count": 4
        }
      ]
    },
    {
      "metadata": {
        "id": "mhZnmyp8vsya",
        "trusted": true,
        "colab": {
          "base_uri": "https://localhost:8080/"
        },
        "outputId": "95cc20b6-3458-4d56-827c-64e983dfe54f"
      },
      "cell_type": "code",
      "source": [
        "df.shape"
      ],
      "execution_count": null,
      "outputs": [
        {
          "output_type": "execute_result",
          "data": {
            "text/plain": [
              "(5171, 3)"
            ]
          },
          "metadata": {},
          "execution_count": 5
        }
      ]
    },
    {
      "metadata": {
        "id": "eKUn0dTczAv1",
        "trusted": true,
        "colab": {
          "base_uri": "https://localhost:8080/"
        },
        "outputId": "9a45720d-5f43-4ee9-bf23-03d0a69990cd"
      },
      "cell_type": "code",
      "source": [
        "df.info()"
      ],
      "execution_count": null,
      "outputs": [
        {
          "output_type": "stream",
          "name": "stdout",
          "text": [
            "<class 'pandas.core.frame.DataFrame'>\n",
            "RangeIndex: 5171 entries, 0 to 5170\n",
            "Data columns (total 3 columns):\n",
            " #   Column  Non-Null Count  Dtype \n",
            "---  ------  --------------  ----- \n",
            " 0   label   5171 non-null   object\n",
            " 1   text    5171 non-null   object\n",
            " 2   class   5171 non-null   int64 \n",
            "dtypes: int64(1), object(2)\n",
            "memory usage: 121.3+ KB\n"
          ]
        }
      ]
    },
    {
      "metadata": {
        "id": "sONgIfWCzH7o",
        "trusted": true,
        "colab": {
          "base_uri": "https://localhost:8080/"
        },
        "outputId": "cf292d7c-3540-4e0a-b38e-e960b0d3353d"
      },
      "cell_type": "code",
      "source": [
        "# No NaN in the data\n",
        "df.isna().sum()"
      ],
      "execution_count": null,
      "outputs": [
        {
          "output_type": "execute_result",
          "data": {
            "text/plain": [
              "label    0\n",
              "text     0\n",
              "class    0\n",
              "dtype: int64"
            ]
          },
          "metadata": {},
          "execution_count": 7
        }
      ]
    },
    {
      "metadata": {
        "id": "DB9ifKO7v7ji",
        "trusted": true,
        "colab": {
          "base_uri": "https://localhost:8080/",
          "height": 336
        },
        "outputId": "c94f921e-5b88-4d5a-f55d-5591e9d77eba"
      },
      "cell_type": "code",
      "source": [
        "# Barplot describes the count of the class labels\n",
        "plt.figure(figsize = (12, 6))\n",
        "sns.countplot(data = df, x = 'label');"
      ],
      "execution_count": null,
      "outputs": [
        {
          "output_type": "display_data",
          "data": {
            "text/plain": [
              "<Figure size 864x432 with 1 Axes>"
            ],
            "image/png": "[encoded data removed]"
          },
          "metadata": {}
        }
      ]
    },
    {
      "metadata": {
        "id": "AR5dGB2v0MsT"
      },
      "cell_type": "markdown",
      "source": [
        "## Viewing samples of the data"
      ]
    },
    {
      "metadata": {
        "trusted": true,
        "id": "po_p1CAi0MsW",
        "colab": {
          "base_uri": "https://localhost:8080/"
        },
        "outputId": "10945066-4cb7-43a6-b111-658dec4f6f3c"
      },
      "cell_type": "code",
      "source": [
        "# Let's see few examples of the data\n",
        "\n",
        "for i in df.iterrows():\n",
        "    print(\"Class Label: {}\\nMail: \\n{}\\n\\n\".format(i[1][0], i[1][1]))\n",
        "    if i[0] == 6: break\n",
        "   "
      ],
      "execution_count": null,
      "outputs": [
        {
          "output_type": "stream",
          "name": "stdout",
          "text": [
            "Class Label: ham\n",
            "Mail: \n",
            "Subject: enron methanol ; meter # : 988291\r\n",
            "this is a follow up to the note i gave you on monday , 4 / 3 / 00 { preliminary\r\n",
            "flow data provided by daren } .\r\n",
            "please override pop ' s daily volume { presently zero } to reflect daily\r\n",
            "activity you can obtain from gas control .\r\n",
            "this change is needed asap for economics purposes .\n",
            "\n",
            "\n",
            "Class Label: ham\n",
            "Mail: \n",
            "Subject: hpl nom for january 9 , 2001\r\n",
            "( see attached file : hplnol 09 . xls )\r\n",
            "- hplnol 09 . xls\n",
            "\n",
            "\n",
            "Class Label: ham\n",
            "Mail: \n",
            "Subject: neon retreat\r\n",
            "ho ho ho , we ' re around to that most wonderful time of the year - - - neon leaders retreat time !\r\n",
            "i know that this time of year is extremely hectic , and that it ' s tough to think about anything past the holidays , but life does go on past the week of december 25 through january 1 , and that ' s what i ' d like you to think about for a minute .\r\n",
            "on the calender that i handed out at the beginning of the fall semester , the retreat was scheduled for the weekend of january 5 - 6 . but because of a youth ministers conference that brad and dustin are connected with that week , we ' re going to change the date to the following weekend , january 12 - 13 . now comes the part you need to think about .\r\n",
            "i think we all agree that it ' s important for us to get together and have some time to recharge our batteries before we get to far into the spring semester , but it can be a lot of trouble and difficult for us to get away without kids , etc . so , brad came up with a potential alternative for how we can get together on that weekend , and then you can let me know which you prefer .\r\n",
            "the first option would be to have a retreat similar to what we ' ve done the past several years . this year we could go to the heartland country inn ( www . . com ) outside of brenham . it ' s a nice place , where we ' d have a 13 - bedroom and a 5 - bedroom house side by side . it ' s in the country , real relaxing , but also close to brenham and only about one hour and 15 minutes from here . we can golf , shop in the antique and craft stores in brenham , eat dinner together at the ranch , and spend time with each other . we ' d meet on saturday , and then return on sunday morning , just like what we ' ve done in the past .\r\n",
            "the second option would be to stay here in houston , have dinner together at a nice restaurant , and then have dessert and a time for visiting and recharging at one of our homes on that saturday evening . this might be easier , but the trade off would be that we wouldn ' t have as much time together . i ' ll let you decide .\r\n",
            "email me back with what would be your preference , and of course if you ' re available on that weekend . the democratic process will prevail - - majority vote will rule ! let me hear from you as soon as possible , preferably by the end of the weekend . and if the vote doesn ' t go your way , no complaining allowed ( like i tend to do ! )\r\n",
            "have a great weekend , great golf , great fishing , great shopping , or whatever makes you happy !\r\n",
            "bobby\n",
            "\n",
            "\n",
            "Class Label: spam\n",
            "Mail: \n",
            "Subject: photoshop , windows , office . cheap . main trending\r\n",
            "abasements darer prudently fortuitous undergone\r\n",
            "lighthearted charm orinoco taster\r\n",
            "railroad affluent pornographic cuvier\r\n",
            "irvin parkhouse blameworthy chlorophyll\r\n",
            "robed diagrammatic fogarty clears bayda\r\n",
            "inconveniencing managing represented smartness hashish\r\n",
            "academies shareholders unload badness\r\n",
            "danielson pure caffein\r\n",
            "spaniard chargeable levin\r\n",
            "\n",
            "\n",
            "\n",
            "Class Label: ham\n",
            "Mail: \n",
            "Subject: re : indian springs\r\n",
            "this deal is to book the teco pvr revenue . it is my understanding that teco\r\n",
            "just sends us a check , i haven ' t received an answer as to whether there is a\r\n",
            "predermined price associated with this deal or if teco just lets us know what\r\n",
            "we are giving . i can continue to chase this deal down if you need .\n",
            "\n",
            "\n",
            "Class Label: ham\n",
            "Mail: \n",
            "Subject: ehronline web address change\r\n",
            "this message is intended for ehronline users only .\r\n",
            "due to a recent change to ehronline , the url ( aka \" web address \" ) for accessing ehronline needs to be changed on your computer . the change involves adding the letter \" s \" to the \" http \" reference in the url . the url for accessing ehronline should be : https : / / ehronline . enron . com .\r\n",
            "this change should be made by those who have added the url as a favorite on the browser .\n",
            "\n",
            "\n",
            "Class Label: ham\n",
            "Mail: \n",
            "Subject: spring savings certificate - take 30 % off\r\n",
            "save 30 % when you use our customer appreciation spring savings\r\n",
            "certificate at foot locker , lady foot locker , kids foot locker and at\r\n",
            "our online stores !\r\n",
            "welcome to our customer appreciation spring savings certificate !\r\n",
            "use the special certificate below and receive 30 % off your purchases either in our stores or online . hurry ! this 4 - day sale begins thursday , march 22 and ends sunday , march 25 .\r\n",
            "share the savings today and e - mail this offer to your friends . many items already are reduced and the 30 % discount is taken off the lowest sale price .\r\n",
            "click below to print your customer appreciation spring savings certificate . you must present this coupon at any foot locker , lady foot locker or kids foot locker store in the u . s . foot locker canada is not participating in this program .\r\n",
            "ready , set , save !\r\n",
            "our spring savings discount will automatically appear when you use the links below or type camlem 21 into the promotion code box during checkout .\r\n",
            "footlocker . com certificate code : camlem 21\r\n",
            "ladyfootlocker . com certificate code : camlem 21\r\n",
            "kidsfootlocker . com certificate code : camlem 21\r\n",
            "remember , returns are hassle - free . simply bring your items to any of our stores nationwide or through the mail .\r\n",
            "don ' t be left out - register today to learn about our new products , promotions , events and other specials . simply click below .\r\n",
            "terms and conditions . some exclusions apply , please see manager for complete details . certificate must be presented at the time of purchase and cannot be used in conjunction with any other discount offer or associate benefit . not redeemable for cash . applicable taxes must be paid by bearer . cannot be applied to prior purchases or to gift card purchases . void where prohibited , licensed or regulated . catalog exclusions apply . valid thursday , 3 / 22 / 01 through sunday , 3 / 25 / 01 . foot locker canada will not participate in this program .\r\n",
            "if you do not wish to receive future emails please click below to\r\n",
            "unsubscribe :\r\n",
            "\n",
            "\n",
            "\n"
          ]
        }
      ]
    },
    {
      "metadata": {
        "id": "4BZWS-zY2h_M"
      },
      "cell_type": "markdown",
      "source": [
        "## Remove stopwords from the data"
      ]
    },
    {
      "metadata": {
        "id": "JQinq_gr4Gtk",
        "trusted": true,
        "colab": {
          "base_uri": "https://localhost:8080/",
          "height": 363
        },
        "outputId": "2fa5ee61-c321-4caa-a674-0599187bc9fb"
      },
      "cell_type": "code",
      "source": [
        "df.sample(10)"
      ],
      "execution_count": null,
      "outputs": [
        {
          "output_type": "execute_result",
          "data": {
            "text/plain": [
              "     label                                               text  class\n",
              "2948   ham  Subject: rockets schedule\\r\\nthe schedule is a...      0\n",
              "3259   ham  Subject: missing deals - may , 2001\\r\\nthe fol...      0\n",
              "772    ham  Subject: escalation procedures - gas logistics...      0\n",
              "3234   ham  Subject: team room\\r\\n- - - - - - - - - - - - ...      0\n",
              "1955  spam  Subject: discover you made money while you wer...      1\n",
              "2716   ham  Subject: pathing question\\r\\ndaren ,\\r\\nhoward...      0\n",
              "823    ham  Subject: electronic pay stubs\\r\\nget ready . b...      0\n",
              "1737   ham  Subject: cornhusker contact information - revi...      0\n",
              "427    ham  Subject: bayer - march 2001 volumes\\r\\njust wa...      0\n",
              "1343   ham  Subject: potential list fo 8 / 00\\r\\ndaren :\\r...      0"
            ],
            "text/html": [
              "\n",
              "  <div id=\"df-0c8d8e26-3b5d-41e6-a9f3-b2c21604e5ac\">\n",
              "    <div class=\"colab-df-container\">\n",
              "      <div>\n",
              "<style scoped>\n",
              "    .dataframe tbody tr th:only-of-type {\n",
              "        vertical-align: middle;\n",
              "    }\n",
              "\n",
              "    .dataframe tbody tr th {\n",
              "        vertical-align: top;\n",
              "    }\n",
              "\n",
              "    .dataframe thead th {\n",
              "        text-align: right;\n",
              "    }\n",
              "</style>\n",
              "<table border=\"1\" class=\"dataframe\">\n",
              "  <thead>\n",
              "    <tr style=\"text-align: right;\">\n",
              "      <th></th>\n",
              "      <th>label</th>\n",
              "      <th>text</th>\n",
              "      <th>class</th>\n",
              "    </tr>\n",
              "  </thead>\n",
              "  <tbody>\n",
              "    <tr>\n",
              "      <th>2948</th>\n",
              "      <td>ham</td>\n",
              "      <td>Subject: rockets schedule\\r\\nthe schedule is a...</td>\n",
              "      <td>0</td>\n",
              "    </tr>\n",
              "    <tr>\n",
              "      <th>3259</th>\n",
              "      <td>ham</td>\n",
              "      <td>Subject: missing deals - may , 2001\\r\\nthe fol...</td>\n",
              "      <td>0</td>\n",
              "    </tr>\n",
              "    <tr>\n",
              "      <th>772</th>\n",
              "      <td>ham</td>\n",
              "      <td>Subject: escalation procedures - gas logistics...</td>\n",
              "      <td>0</td>\n",
              "    </tr>\n",
              "    <tr>\n",
              "      <th>3234</th>\n",
              "      <td>ham</td>\n",
              "      <td>Subject: team room\\r\\n- - - - - - - - - - - - ...</td>\n",
              "      <td>0</td>\n",
              "    </tr>\n",
              "    <tr>\n",
              "      <th>1955</th>\n",
              "      <td>spam</td>\n",
              "      <td>Subject: discover you made money while you wer...</td>\n",
              "      <td>1</td>\n",
              "    </tr>\n",
              "    <tr>\n",
              "      <th>2716</th>\n",
              "      <td>ham</td>\n",
              "      <td>Subject: pathing question\\r\\ndaren ,\\r\\nhoward...</td>\n",
              "      <td>0</td>\n",
              "    </tr>\n",
              "    <tr>\n",
              "      <th>823</th>\n",
              "      <td>ham</td>\n",
              "      <td>Subject: electronic pay stubs\\r\\nget ready . b...</td>\n",
              "      <td>0</td>\n",
              "    </tr>\n",
              "    <tr>\n",
              "      <th>1737</th>\n",
              "      <td>ham</td>\n",
              "      <td>Subject: cornhusker contact information - revi...</td>\n",
              "      <td>0</td>\n",
              "    </tr>\n",
              "    <tr>\n",
              "      <th>427</th>\n",
              "      <td>ham</td>\n",
              "      <td>Subject: bayer - march 2001 volumes\\r\\njust wa...</td>\n",
              "      <td>0</td>\n",
              "    </tr>\n",
              "    <tr>\n",
              "      <th>1343</th>\n",
              "      <td>ham</td>\n",
              "      <td>Subject: potential list fo 8 / 00\\r\\ndaren :\\r...</td>\n",
              "      <td>0</td>\n",
              "    </tr>\n",
              "  </tbody>\n",
              "</table>\n",
              "</div>\n",
              "      <button class=\"colab-df-convert\" onclick=\"convertToInteractive('df-0c8d8e26-3b5d-41e6-a9f3-b2c21604e5ac')\"\n",
              "              title=\"Convert this dataframe to an interactive table.\"\n",
              "              style=\"display:none;\">\n",
              "        \n",
              "  <svg xmlns=\"http://www.w3.org/2000/svg\" height=\"24px\"viewBox=\"0 0 24 24\"\n",
              "       width=\"24px\">\n",
              "    <path d=\"M0 0h24v24H0V0z\" fill=\"none\"/>\n",
              "    <path d=\"M18.56 5.44l.94 2.06.94-2.06 2.06-.94-2.06-.94-.94-2.06-.94 2.06-2.06.94zm-11 1L8.5 8.5l.94-2.06 2.06-.94-2.06-.94L8.5 2.5l-.94 2.06-2.06.94zm10 10l.94 2.06.94-2.06 2.06-.94-2.06-.94-.94-2.06-.94 2.06-2.06.94z\"/><path d=\"M17.41 7.96l-1.37-1.37c-.4-.4-.92-.59-1.43-.59-.52 0-1.04.2-1.43.59L10.3 9.45l-7.72 7.72c-.78.78-.78 2.05 0 2.83L4 21.41c.39.39.9.59 1.41.59.51 0 1.02-.2 1.41-.59l7.78-7.78 2.81-2.81c.8-.78.8-2.07 0-2.86zM5.41 20L4 18.59l7.72-7.72 1.47 1.35L5.41 20z\"/>\n",
              "  </svg>\n",
              "      </button>\n",
              "      \n",
              "  <style>\n",
              "    .colab-df-container {\n",
              "      display:flex;\n",
              "      flex-wrap:wrap;\n",
              "      gap: 12px;\n",
              "    }\n",
              "\n",
              "    .colab-df-convert {\n",
              "      background-color: #E8F0FE;\n",
              "      border: none;\n",
              "      border-radius: 50%;\n",
              "      cursor: pointer;\n",
              "      display: none;\n",
              "      fill: #1967D2;\n",
              "      height: 32px;\n",
              "      padding: 0 0 0 0;\n",
              "      width: 32px;\n",
              "    }\n",
              "\n",
              "    .colab-df-convert:hover {\n",
              "      background-color: #E2EBFA;\n",
              "      box-shadow: 0px 1px 2px rgba(60, 64, 67, 0.3), 0px 1px 3px 1px rgba(60, 64, 67, 0.15);\n",
              "      fill: #174EA6;\n",
              "    }\n",
              "\n",
              "    [theme=dark] .colab-df-convert {\n",
              "      background-color: #3B4455;\n",
              "      fill: #D2E3FC;\n",
              "    }\n",
              "\n",
              "    [theme=dark] .colab-df-convert:hover {\n",
              "      background-color: #434B5C;\n",
              "      box-shadow: 0px 1px 3px 1px rgba(0, 0, 0, 0.15);\n",
              "      filter: drop-shadow(0px 1px 2px rgba(0, 0, 0, 0.3));\n",
              "      fill: #FFFFFF;\n",
              "    }\n",
              "  </style>\n",
              "\n",
              "      <script>\n",
              "        const buttonEl =\n",
              "          document.querySelector('#df-0c8d8e26-3b5d-41e6-a9f3-b2c21604e5ac button.colab-df-convert');\n",
              "        buttonEl.style.display =\n",
              "          google.colab.kernel.accessAllowed ? 'block' : 'none';\n",
              "\n",
              "        async function convertToInteractive(key) {\n",
              "          const element = document.querySelector('#df-0c8d8e26-3b5d-41e6-a9f3-b2c21604e5ac');\n",
              "          const dataTable =\n",
              "            await google.colab.kernel.invokeFunction('convertToInteractive',\n",
              "                                                     [key], {});\n",
              "          if (!dataTable) return;\n",
              "\n",
              "          const docLinkHtml = 'Like what you see? Visit the ' +\n",
              "            '<a target=\"_blank\" href=https://colab.research.google.com/notebooks/data_table.ipynb>data table notebook</a>'\n",
              "            + ' to learn more about interactive tables.';\n",
              "          element.innerHTML = '';\n",
              "          dataTable['output_type'] = 'display_data';\n",
              "          await google.colab.output.renderOutput(dataTable, element);\n",
              "          const docLink = document.createElement('div');\n",
              "          docLink.innerHTML = docLinkHtml;\n",
              "          element.appendChild(docLink);\n",
              "        }\n",
              "      </script>\n",
              "    </div>\n",
              "  </div>\n",
              "  "
            ]
          },
          "metadata": {},
          "execution_count": 11
        }
      ]
    },
    {
      "metadata": {
        "id": "63JwhjEF0WxE",
        "trusted": true,
        "colab": {
          "base_uri": "https://localhost:8080/"
        },
        "outputId": "392a9d1a-dbd7-475a-80f6-7a23eeb1504b"
      },
      "cell_type": "code",
      "source": [
        "X = df.loc[:, 'text']\n",
        "y = df.loc[:, 'class']\n",
        "\n",
        "print(f\"Shape of X: {X.shape}\\nshape of y: {y.shape}\")"
      ],
      "execution_count": null,
      "outputs": [
        {
          "output_type": "stream",
          "name": "stdout",
          "text": [
            "Shape of X: (5171,)\n",
            "shape of y: (5171,)\n"
          ]
        }
      ]
    },
    {
      "metadata": {
        "id": "ydvg7VkF0FH-"
      },
      "cell_type": "markdown",
      "source": [
        "### Split data into **train** and **test** in 80:20"
      ]
    },
    {
      "metadata": {
        "id": "0oACJb0FwgQo",
        "trusted": true
      },
      "cell_type": "code",
      "source": [
        "X_train, X_test, y_train, y_test = train_test_split(X, y, test_size=0.20, random_state=11)"
      ],
      "execution_count": null,
      "outputs": []
    },
    {
      "metadata": {
        "id": "Q8bb5GmWyaUA",
        "trusted": true,
        "colab": {
          "base_uri": "https://localhost:8080/"
        },
        "outputId": "c12b6b4b-8636-4846-b2c7-608c63dce4a9"
      },
      "cell_type": "code",
      "source": [
        "print(f\"Train Data Shape: {X_train.shape}\\nTest Data Shape: {X_test.shape}\")"
      ],
      "execution_count": null,
      "outputs": [
        {
          "output_type": "stream",
          "name": "stdout",
          "text": [
            "Train Data Shape: (4136,)\n",
            "Test Data Shape: (1035,)\n"
          ]
        }
      ]
    },
    {
      "metadata": {
        "id": "Nj1asxUf1ceq"
      },
      "cell_type": "markdown",
      "source": [
        "## Preprocess text to build the ML model"
      ]
    },
    {
      "metadata": {
        "id": "IeIRTO4k1Zmg",
        "trusted": true,
        "colab": {
          "base_uri": "https://localhost:8080/"
        },
        "outputId": "551af83a-dea4-407b-ad22-48f9a6d648f8"
      },
      "cell_type": "code",
      "source": [
        "cVect = CountVectorizer()\n",
        "cVect.fit(X_train)"
      ],
      "execution_count": null,
      "outputs": [
        {
          "output_type": "execute_result",
          "data": {
            "text/plain": [
              "CountVectorizer()"
            ]
          },
          "metadata": {},
          "execution_count": 15
        }
      ]
    },
    {
      "metadata": {
        "id": "IXpAECJD2I_S"
      },
      "cell_type": "markdown",
      "source": [
        "  Let's see the vocabulary that has extracted by hte count vextorizer"
      ]
    },
    {
      "metadata": {
        "id": "bg-bwb7713_n",
        "trusted": true,
        "colab": {
          "base_uri": "https://localhost:8080/"
        },
        "outputId": "13836ed9-67cf-4b88-a0bb-3a58de694bb6"
      },
      "cell_type": "code",
      "source": [
        "print('NO.of Tokens: ',len(cVect.vocabulary_.keys()))"
      ],
      "execution_count": null,
      "outputs": [
        {
          "output_type": "stream",
          "name": "stdout",
          "text": [
            "NO.of Tokens:  44402\n"
          ]
        }
      ]
    },
    {
      "metadata": {
        "id": "bn43UCPJ2Qbj",
        "trusted": true
      },
      "cell_type": "code",
      "source": [
        "# document term vector (dtv)\n",
        "dtv = cVect.transform(X_train)"
      ],
      "execution_count": null,
      "outputs": []
    },
    {
      "metadata": {
        "id": "pHqy7JQt44Ay",
        "trusted": true,
        "colab": {
          "base_uri": "https://localhost:8080/"
        },
        "outputId": "615ddf8f-b5aa-4d9c-8def-53d1c37dd31d"
      },
      "cell_type": "code",
      "source": [
        "type(dtv)"
      ],
      "execution_count": null,
      "outputs": [
        {
          "output_type": "execute_result",
          "data": {
            "text/plain": [
              "scipy.sparse.csr.csr_matrix"
            ]
          },
          "metadata": {},
          "execution_count": 18
        }
      ]
    },
    {
      "metadata": {
        "id": "UpvPOMXW46Tk",
        "trusted": true
      },
      "cell_type": "code",
      "source": [
        "dtv = dtv.toarray()"
      ],
      "execution_count": null,
      "outputs": []
    },
    {
      "metadata": {
        "id": "Z-eyUJKQ5KWa",
        "trusted": true,
        "colab": {
          "base_uri": "https://localhost:8080/"
        },
        "outputId": "70d6ea87-4550-45bd-f66c-341a1239124e"
      },
      "cell_type": "code",
      "source": [
        "print(f\"Number of Observations: {dtv.shape[0]}\\nTokens/Features: {dtv.shape[1]}\")"
      ],
      "execution_count": null,
      "outputs": [
        {
          "output_type": "stream",
          "name": "stdout",
          "text": [
            "Number of Observations: 4136\n",
            "Tokens/Features: 44402\n"
          ]
        }
      ]
    },
    {
      "metadata": {
        "id": "T9PsMu2D5PB9",
        "trusted": true,
        "colab": {
          "base_uri": "https://localhost:8080/"
        },
        "outputId": "630a4030-0396-4931-c0da-7b89dae71074"
      },
      "cell_type": "code",
      "source": [
        "# Let's see an sample that has been preprocessed\n",
        "dtv[1]"
      ],
      "execution_count": null,
      "outputs": [
        {
          "output_type": "execute_result",
          "data": {
            "text/plain": [
              "array([0, 0, 0, ..., 0, 0, 0])"
            ]
          },
          "metadata": {},
          "execution_count": 21
        }
      ]
    },
    {
      "metadata": {
        "id": "gh9f76RG0MtC"
      },
      "cell_type": "markdown",
      "source": [
        "### Logistic Regression.\n",
        "\n",
        "##### **Logistic Regression** could help use predict whether the student passed or failed. Logistic regression predictions are discrete (only specific values or categories are allowed). We can also view probability scores underlying the model’s classifications."
      ]
    },
    {
      "metadata": {
        "id": "yH-yhAdN0MtE"
      },
      "cell_type": "markdown",
      "source": [
        "### Hyperparameter Tuning"
      ]
    },
    {
      "metadata": {
        "trusted": true,
        "id": "ItmgXPNV0MtI",
        "colab": {
          "base_uri": "https://localhost:8080/"
        },
        "outputId": "1c0aea2d-9203-464d-9269-b6fe2551c2d2"
      },
      "cell_type": "code",
      "source": [
        "lr = LogisticRegression(verbose=1)\n",
        "\n",
        "grid={\"C\":[float(i) for i in range(1, 3)], \"penalty\":[\"l2\"], \"solver\":[ 'lbfgs', 'liblinear']}\n",
        "logreg_cv=GridSearchCV(lr, grid, cv=4)\n",
        "logreg_cv.fit(dtv,y_train)\n",
        "\n",
        "print(\"Tuned Hpyerparameters :\",logreg_cv.best_params_)\n",
        "print(\"accuracy :\",logreg_cv.best_score_)"
      ],
      "execution_count": null,
      "outputs": [
        {
          "output_type": "stream",
          "name": "stderr",
          "text": [
            "[Parallel(n_jobs=1)]: Using backend SequentialBackend with 1 concurrent workers.\n",
            "/usr/local/lib/python3.8/dist-packages/sklearn/linear_model/_logistic.py:814: ConvergenceWarning: lbfgs failed to converge (status=1):\n",
            "STOP: TOTAL NO. of ITERATIONS REACHED LIMIT.\n",
            "\n",
            "Increase the number of iterations (max_iter) or scale the data as shown in:\n",
            "    https://scikit-learn.org/stable/modules/preprocessing.html\n",
            "Please also refer to the documentation for alternative solver options:\n",
            "    https://scikit-learn.org/stable/modules/linear_model.html#logistic-regression\n",
            "  n_iter_i = _check_optimize_result(\n",
            "[Parallel(n_jobs=1)]: Done   1 out of   1 | elapsed:   34.3s finished\n",
            "[Parallel(n_jobs=1)]: Using backend SequentialBackend with 1 concurrent workers.\n",
            "/usr/local/lib/python3.8/dist-packages/sklearn/linear_model/_logistic.py:814: ConvergenceWarning: lbfgs failed to converge (status=1):\n",
            "STOP: TOTAL NO. of ITERATIONS REACHED LIMIT.\n",
            "\n",
            "Increase the number of iterations (max_iter) or scale the data as shown in:\n",
            "    https://scikit-learn.org/stable/modules/preprocessing.html\n",
            "Please also refer to the documentation for alternative solver options:\n",
            "    https://scikit-learn.org/stable/modules/linear_model.html#logistic-regression\n",
            "  n_iter_i = _check_optimize_result(\n",
            "[Parallel(n_jobs=1)]: Done   1 out of   1 | elapsed:   25.3s finished\n",
            "[Parallel(n_jobs=1)]: Using backend SequentialBackend with 1 concurrent workers.\n",
            "/usr/local/lib/python3.8/dist-packages/sklearn/linear_model/_logistic.py:814: ConvergenceWarning: lbfgs failed to converge (status=1):\n",
            "STOP: TOTAL NO. of ITERATIONS REACHED LIMIT.\n",
            "\n",
            "Increase the number of iterations (max_iter) or scale the data as shown in:\n",
            "    https://scikit-learn.org/stable/modules/preprocessing.html\n",
            "Please also refer to the documentation for alternative solver options:\n",
            "    https://scikit-learn.org/stable/modules/linear_model.html#logistic-regression\n",
            "  n_iter_i = _check_optimize_result(\n",
            "[Parallel(n_jobs=1)]: Done   1 out of   1 | elapsed:   31.0s finished\n",
            "[Parallel(n_jobs=1)]: Using backend SequentialBackend with 1 concurrent workers.\n",
            "/usr/local/lib/python3.8/dist-packages/sklearn/linear_model/_logistic.py:814: ConvergenceWarning: lbfgs failed to converge (status=1):\n",
            "STOP: TOTAL NO. of ITERATIONS REACHED LIMIT.\n",
            "\n",
            "Increase the number of iterations (max_iter) or scale the data as shown in:\n",
            "    https://scikit-learn.org/stable/modules/preprocessing.html\n",
            "Please also refer to the documentation for alternative solver options:\n",
            "    https://scikit-learn.org/stable/modules/linear_model.html#logistic-regression\n",
            "  n_iter_i = _check_optimize_result(\n",
            "[Parallel(n_jobs=1)]: Done   1 out of   1 | elapsed:   27.0s finished\n"
          ]
        },
        {
          "output_type": "stream",
          "name": "stdout",
          "text": [
            "[LibLinear][LibLinear][LibLinear][LibLinear]"
          ]
        },
        {
          "output_type": "stream",
          "name": "stderr",
          "text": [
            "[Parallel(n_jobs=1)]: Using backend SequentialBackend with 1 concurrent workers.\n",
            "/usr/local/lib/python3.8/dist-packages/sklearn/linear_model/_logistic.py:814: ConvergenceWarning: lbfgs failed to converge (status=1):\n",
            "STOP: TOTAL NO. of ITERATIONS REACHED LIMIT.\n",
            "\n",
            "Increase the number of iterations (max_iter) or scale the data as shown in:\n",
            "    https://scikit-learn.org/stable/modules/preprocessing.html\n",
            "Please also refer to the documentation for alternative solver options:\n",
            "    https://scikit-learn.org/stable/modules/linear_model.html#logistic-regression\n",
            "  n_iter_i = _check_optimize_result(\n",
            "[Parallel(n_jobs=1)]: Done   1 out of   1 | elapsed:   27.2s finished\n",
            "[Parallel(n_jobs=1)]: Using backend SequentialBackend with 1 concurrent workers.\n",
            "/usr/local/lib/python3.8/dist-packages/sklearn/linear_model/_logistic.py:814: ConvergenceWarning: lbfgs failed to converge (status=1):\n",
            "STOP: TOTAL NO. of ITERATIONS REACHED LIMIT.\n",
            "\n",
            "Increase the number of iterations (max_iter) or scale the data as shown in:\n",
            "    https://scikit-learn.org/stable/modules/preprocessing.html\n",
            "Please also refer to the documentation for alternative solver options:\n",
            "    https://scikit-learn.org/stable/modules/linear_model.html#logistic-regression\n",
            "  n_iter_i = _check_optimize_result(\n",
            "[Parallel(n_jobs=1)]: Done   1 out of   1 | elapsed:   25.0s finished\n",
            "[Parallel(n_jobs=1)]: Using backend SequentialBackend with 1 concurrent workers.\n",
            "/usr/local/lib/python3.8/dist-packages/sklearn/linear_model/_logistic.py:814: ConvergenceWarning: lbfgs failed to converge (status=1):\n",
            "STOP: TOTAL NO. of ITERATIONS REACHED LIMIT.\n",
            "\n",
            "Increase the number of iterations (max_iter) or scale the data as shown in:\n",
            "    https://scikit-learn.org/stable/modules/preprocessing.html\n",
            "Please also refer to the documentation for alternative solver options:\n",
            "    https://scikit-learn.org/stable/modules/linear_model.html#logistic-regression\n",
            "  n_iter_i = _check_optimize_result(\n",
            "[Parallel(n_jobs=1)]: Done   1 out of   1 | elapsed:   25.0s finished\n",
            "[Parallel(n_jobs=1)]: Using backend SequentialBackend with 1 concurrent workers.\n",
            "/usr/local/lib/python3.8/dist-packages/sklearn/linear_model/_logistic.py:814: ConvergenceWarning: lbfgs failed to converge (status=1):\n",
            "STOP: TOTAL NO. of ITERATIONS REACHED LIMIT.\n",
            "\n",
            "Increase the number of iterations (max_iter) or scale the data as shown in:\n",
            "    https://scikit-learn.org/stable/modules/preprocessing.html\n",
            "Please also refer to the documentation for alternative solver options:\n",
            "    https://scikit-learn.org/stable/modules/linear_model.html#logistic-regression\n",
            "  n_iter_i = _check_optimize_result(\n",
            "[Parallel(n_jobs=1)]: Done   1 out of   1 | elapsed:   25.7s finished\n"
          ]
        },
        {
          "output_type": "stream",
          "name": "stdout",
          "text": [
            "[LibLinear][LibLinear][LibLinear][LibLinear][LibLinear]Tuned Hpyerparameters : {'C': 2.0, 'penalty': 'l2', 'solver': 'liblinear'}\n",
            "accuracy : 0.976063829787234\n"
          ]
        }
      ]
    },
    {
      "metadata": {
        "id": "Gyh2ZsoU6B4a",
        "trusted": true,
        "colab": {
          "base_uri": "https://localhost:8080/"
        },
        "outputId": "a76f1d0d-4640-43e2-c03b-d78e192ab694"
      },
      "cell_type": "code",
      "source": [
        "%%time\n",
        "lr = LogisticRegression(solver='liblinear', penalty ='l2' , C = 1.0)\n",
        "lr.fit(dtv, y_train)"
      ],
      "execution_count": null,
      "outputs": [
        {
          "output_type": "stream",
          "name": "stdout",
          "text": [
            "CPU times: user 1.46 s, sys: 355 ms, total: 1.81 s\n",
            "Wall time: 1.42 s\n"
          ]
        },
        {
          "output_type": "execute_result",
          "data": {
            "text/plain": [
              "LogisticRegression(solver='liblinear')"
            ]
          },
          "metadata": {},
          "execution_count": 23
        }
      ]
    },
    {
      "metadata": {
        "id": "QU5GGLFA_dAY"
      },
      "cell_type": "markdown",
      "source": [
        "## Evaluate on the Test data"
      ]
    },
    {
      "metadata": {
        "id": "bLmYtS1N64UU",
        "trusted": true,
        "colab": {
          "base_uri": "https://localhost:8080/"
        },
        "outputId": "d79852e5-f6d6-4ed6-ccf4-27c640102ba3"
      },
      "cell_type": "code",
      "source": [
        "# Preprocess the test data\n",
        "test_dtv = cVect.transform(X_test)\n",
        "test_dtv = test_dtv.toarray()\n",
        "print(f\"Number of Observations: {test_dtv.shape[0]}\\nTokens/Features: {test_dtv.shape[1]}\")"
      ],
      "execution_count": null,
      "outputs": [
        {
          "output_type": "stream",
          "name": "stdout",
          "text": [
            "Number of Observations: 1035\n",
            "Tokens/Features: 44402\n"
          ]
        }
      ]
    },
    {
      "metadata": {
        "id": "xEztQBTF_720",
        "trusted": true,
        "colab": {
          "base_uri": "https://localhost:8080/"
        },
        "outputId": "5cfd1fb3-3d63-49ff-befc-ded0d023ec5f"
      },
      "cell_type": "code",
      "source": [
        "%%time\n",
        "pred = lr.predict(test_dtv)"
      ],
      "execution_count": null,
      "outputs": [
        {
          "output_type": "stream",
          "name": "stdout",
          "text": [
            "CPU times: user 126 ms, sys: 0 ns, total: 126 ms\n",
            "Wall time: 99.4 ms\n"
          ]
        }
      ]
    },
    {
      "metadata": {
        "id": "f3pUmUbqAb91",
        "trusted": true,
        "colab": {
          "base_uri": "https://localhost:8080/"
        },
        "outputId": "3518391a-71b3-4639-f85e-f29098259f15"
      },
      "cell_type": "code",
      "source": [
        "print('Accuracy: ', accuracy_score(y_test, pred) * 100)"
      ],
      "execution_count": null,
      "outputs": [
        {
          "output_type": "stream",
          "name": "stdout",
          "text": [
            "Accuracy:  97.3913043478261\n"
          ]
        }
      ]
    },
    {
      "metadata": {
        "id": "TGwdpzQnAyKN"
      },
      "cell_type": "markdown",
      "source": [
        "  Classification Report of the classifier"
      ]
    },
    {
      "metadata": {
        "id": "taHJjDfSAkYs",
        "trusted": true,
        "colab": {
          "base_uri": "https://localhost:8080/"
        },
        "outputId": "0f8c8354-f1ac-475a-9f56-be6cfe1f89b4"
      },
      "cell_type": "code",
      "source": [
        "# 0 - Not Spam / Ham\n",
        "# 1 - Spam \n",
        "print(classification_report(y_test, pred))"
      ],
      "execution_count": null,
      "outputs": [
        {
          "output_type": "stream",
          "name": "stdout",
          "text": [
            "              precision    recall  f1-score   support\n",
            "\n",
            "           0       0.99      0.97      0.98       744\n",
            "           1       0.94      0.97      0.95       291\n",
            "\n",
            "    accuracy                           0.97      1035\n",
            "   macro avg       0.96      0.97      0.97      1035\n",
            "weighted avg       0.97      0.97      0.97      1035\n",
            "\n"
          ]
        }
      ]
    },
    {
      "metadata": {
        "id": "W0PQUVsoBPIX"
      },
      "cell_type": "markdown",
      "source": [
        "  Confusion Matrix"
      ]
    },
    {
      "metadata": {
        "id": "ue-vbeDICs-y",
        "trusted": true,
        "colab": {
          "base_uri": "https://localhost:8080/",
          "height": 374
        },
        "outputId": "ec430da3-5851-4e9d-c784-80a2a71fea13"
      },
      "cell_type": "code",
      "source": [
        "cmat = confusion_matrix(y_test, pred)\n",
        "plt.figure(figsize = (6, 6))\n",
        "sns.heatmap(cmat, annot = True, cmap = 'Paired', cbar = False, fmt=\"d\", xticklabels=['Not Spam', 'Spam'], yticklabels=['Not Spam', 'Spam']);"
      ],
      "execution_count": null,
      "outputs": [
        {
          "output_type": "display_data",
          "data": {
            "text/plain": [
              "<Figure size 432x432 with 1 Axes>"
            ],
            "image/png": "[encoded data removed]"
          },
          "metadata": {}
        }
      ]
    },
    {
      "metadata": {
        "id": "WoTvO1fQOiKE"
      },
      "cell_type": "markdown",
      "source": [
        "## Predict Class label for the unseen data i.e., Spam or Not Spam"
      ]
    },
    {
      "metadata": {
        "id": "B9T5vL8MEcJW",
        "trusted": true
      },
      "cell_type": "code",
      "source": [
        "# 'You won 1000$ prize money in lottery. Click here to avail'\n",
        "def predict_class(lr):\n",
        "    text = input('Enter Text(Subject of the mail): ')\n",
        "    text = [' '.join([ word for word in word_tokenize(text)  if not word in stop_words])]\n",
        "    t_dtv = cVect.transform(text).toarray()\n",
        "    print('Predicted Class:', end = ' ')\n",
        "    print('Spam' if lr.predict(t_dtv)[0] else 'Not Spam') \n",
        "    prob = lr.predict_proba(t_dtv)*100\n",
        "    print(f\"Not Spam: {prob[0][0]}%\\nSpam: {prob[0][1]}%\")\n",
        "    plt.figure(figsize=(12, 6))\n",
        "    sns.barplot(x =['Not Spam', 'Spam'] , y = [prob[0][0], prob[0][1]])\n",
        "    plt.xlabel('Class')\n",
        "    plt.ylabel('Probalility')\n",
        "    plt.show()\n"
      ],
      "execution_count": null,
      "outputs": []
    },
    {
      "metadata": {
        "id": "0AqIdZQqOCAS"
      },
      "cell_type": "markdown",
      "source": [
        "\n",
        "\n",
        "---\n",
        "\n"
      ]
    },
    {
      "cell_type": "code",
      "source": [
        "df.sample(10)"
      ],
      "metadata": {
        "id": "3qfucb1hlz4b",
        "outputId": "f09c81c3-7c99-44e3-a318-51a8fd29f70e",
        "colab": {
          "base_uri": "https://localhost:8080/",
          "height": 363
        }
      },
      "execution_count": null,
      "outputs": [
        {
          "output_type": "execute_result",
          "data": {
            "text/plain": [
              "     label                                               text  class\n",
              "677    ham  Subject: march activity survey\\r\\nas you are a...      0\n",
              "4159   ham  Subject: re : meter # 1512\\r\\nno one resolved ...      0\n",
              "3929   ham  Subject: texas risk organization\\r\\nsent on be...      0\n",
              "329    ham  Subject: revised buyback\\r\\nthe marathon - ash...      0\n",
              "5061   ham  Subject: tenaska iv\\r\\nbob :\\r\\ni understand f...      0\n",
              "1166   ham  Subject: meter 1351 - feb 01\\r\\ndaren - meter ...      0\n",
              "5144  spam  Subject: we are the best qns\\r\\nlook at this o...      1\n",
              "4083  spam  Subject: you need this abazis\\r\\nlook at this ...      1\n",
              "1834  spam  Subject: software at incredibly low prices ( 8...      1\n",
              "820    ham  Subject: deals 141877 , 141883 , and 141884 ( ...      0"
            ],
            "text/html": [
              "\n",
              "  <div id=\"df-9265a5ce-f111-4894-8190-f8175d85b46b\">\n",
              "    <div class=\"colab-df-container\">\n",
              "      <div>\n",
              "<style scoped>\n",
              "    .dataframe tbody tr th:only-of-type {\n",
              "        vertical-align: middle;\n",
              "    }\n",
              "\n",
              "    .dataframe tbody tr th {\n",
              "        vertical-align: top;\n",
              "    }\n",
              "\n",
              "    .dataframe thead th {\n",
              "        text-align: right;\n",
              "    }\n",
              "</style>\n",
              "<table border=\"1\" class=\"dataframe\">\n",
              "  <thead>\n",
              "    <tr style=\"text-align: right;\">\n",
              "      <th></th>\n",
              "      <th>label</th>\n",
              "      <th>text</th>\n",
              "      <th>class</th>\n",
              "    </tr>\n",
              "  </thead>\n",
              "  <tbody>\n",
              "    <tr>\n",
              "      <th>677</th>\n",
              "      <td>ham</td>\n",
              "      <td>Subject: march activity survey\\r\\nas you are a...</td>\n",
              "      <td>0</td>\n",
              "    </tr>\n",
              "    <tr>\n",
              "      <th>4159</th>\n",
              "      <td>ham</td>\n",
              "      <td>Subject: re : meter # 1512\\r\\nno one resolved ...</td>\n",
              "      <td>0</td>\n",
              "    </tr>\n",
              "    <tr>\n",
              "      <th>3929</th>\n",
              "      <td>ham</td>\n",
              "      <td>Subject: texas risk organization\\r\\nsent on be...</td>\n",
              "      <td>0</td>\n",
              "    </tr>\n",
              "    <tr>\n",
              "      <th>329</th>\n",
              "      <td>ham</td>\n",
              "      <td>Subject: revised buyback\\r\\nthe marathon - ash...</td>\n",
              "      <td>0</td>\n",
              "    </tr>\n",
              "    <tr>\n",
              "      <th>5061</th>\n",
              "      <td>ham</td>\n",
              "      <td>Subject: tenaska iv\\r\\nbob :\\r\\ni understand f...</td>\n",
              "      <td>0</td>\n",
              "    </tr>\n",
              "    <tr>\n",
              "      <th>1166</th>\n",
              "      <td>ham</td>\n",
              "      <td>Subject: meter 1351 - feb 01\\r\\ndaren - meter ...</td>\n",
              "      <td>0</td>\n",
              "    </tr>\n",
              "    <tr>\n",
              "      <th>5144</th>\n",
              "      <td>spam</td>\n",
              "      <td>Subject: we are the best qns\\r\\nlook at this o...</td>\n",
              "      <td>1</td>\n",
              "    </tr>\n",
              "    <tr>\n",
              "      <th>4083</th>\n",
              "      <td>spam</td>\n",
              "      <td>Subject: you need this abazis\\r\\nlook at this ...</td>\n",
              "      <td>1</td>\n",
              "    </tr>\n",
              "    <tr>\n",
              "      <th>1834</th>\n",
              "      <td>spam</td>\n",
              "      <td>Subject: software at incredibly low prices ( 8...</td>\n",
              "      <td>1</td>\n",
              "    </tr>\n",
              "    <tr>\n",
              "      <th>820</th>\n",
              "      <td>ham</td>\n",
              "      <td>Subject: deals 141877 , 141883 , and 141884 ( ...</td>\n",
              "      <td>0</td>\n",
              "    </tr>\n",
              "  </tbody>\n",
              "</table>\n",
              "</div>\n",
              "      <button class=\"colab-df-convert\" onclick=\"convertToInteractive('df-9265a5ce-f111-4894-8190-f8175d85b46b')\"\n",
              "              title=\"Convert this dataframe to an interactive table.\"\n",
              "              style=\"display:none;\">\n",
              "        \n",
              "  <svg xmlns=\"http://www.w3.org/2000/svg\" height=\"24px\"viewBox=\"0 0 24 24\"\n",
              "       width=\"24px\">\n",
              "    <path d=\"M0 0h24v24H0V0z\" fill=\"none\"/>\n",
              "    <path d=\"M18.56 5.44l.94 2.06.94-2.06 2.06-.94-2.06-.94-.94-2.06-.94 2.06-2.06.94zm-11 1L8.5 8.5l.94-2.06 2.06-.94-2.06-.94L8.5 2.5l-.94 2.06-2.06.94zm10 10l.94 2.06.94-2.06 2.06-.94-2.06-.94-.94-2.06-.94 2.06-2.06.94z\"/><path d=\"M17.41 7.96l-1.37-1.37c-.4-.4-.92-.59-1.43-.59-.52 0-1.04.2-1.43.59L10.3 9.45l-7.72 7.72c-.78.78-.78 2.05 0 2.83L4 21.41c.39.39.9.59 1.41.59.51 0 1.02-.2 1.41-.59l7.78-7.78 2.81-2.81c.8-.78.8-2.07 0-2.86zM5.41 20L4 18.59l7.72-7.72 1.47 1.35L5.41 20z\"/>\n",
              "  </svg>\n",
              "      </button>\n",
              "      \n",
              "  <style>\n",
              "    .colab-df-container {\n",
              "      display:flex;\n",
              "      flex-wrap:wrap;\n",
              "      gap: 12px;\n",
              "    }\n",
              "\n",
              "    .colab-df-convert {\n",
              "      background-color: #E8F0FE;\n",
              "      border: none;\n",
              "      border-radius: 50%;\n",
              "      cursor: pointer;\n",
              "      display: none;\n",
              "      fill: #1967D2;\n",
              "      height: 32px;\n",
              "      padding: 0 0 0 0;\n",
              "      width: 32px;\n",
              "    }\n",
              "\n",
              "    .colab-df-convert:hover {\n",
              "      background-color: #E2EBFA;\n",
              "      box-shadow: 0px 1px 2px rgba(60, 64, 67, 0.3), 0px 1px 3px 1px rgba(60, 64, 67, 0.15);\n",
              "      fill: #174EA6;\n",
              "    }\n",
              "\n",
              "    [theme=dark] .colab-df-convert {\n",
              "      background-color: #3B4455;\n",
              "      fill: #D2E3FC;\n",
              "    }\n",
              "\n",
              "    [theme=dark] .colab-df-convert:hover {\n",
              "      background-color: #434B5C;\n",
              "      box-shadow: 0px 1px 3px 1px rgba(0, 0, 0, 0.15);\n",
              "      filter: drop-shadow(0px 1px 2px rgba(0, 0, 0, 0.3));\n",
              "      fill: #FFFFFF;\n",
              "    }\n",
              "  </style>\n",
              "\n",
              "      <script>\n",
              "        const buttonEl =\n",
              "          document.querySelector('#df-9265a5ce-f111-4894-8190-f8175d85b46b button.colab-df-convert');\n",
              "        buttonEl.style.display =\n",
              "          google.colab.kernel.accessAllowed ? 'block' : 'none';\n",
              "\n",
              "        async function convertToInteractive(key) {\n",
              "          const element = document.querySelector('#df-9265a5ce-f111-4894-8190-f8175d85b46b');\n",
              "          const dataTable =\n",
              "            await google.colab.kernel.invokeFunction('convertToInteractive',\n",
              "                                                     [key], {});\n",
              "          if (!dataTable) return;\n",
              "\n",
              "          const docLinkHtml = 'Like what you see? Visit the ' +\n",
              "            '<a target=\"_blank\" href=https://colab.research.google.com/notebooks/data_table.ipynb>data table notebook</a>'\n",
              "            + ' to learn more about interactive tables.';\n",
              "          element.innerHTML = '';\n",
              "          dataTable['output_type'] = 'display_data';\n",
              "          await google.colab.output.renderOutput(dataTable, element);\n",
              "          const docLink = document.createElement('div');\n",
              "          docLink.innerHTML = docLinkHtml;\n",
              "          element.appendChild(docLink);\n",
              "        }\n",
              "      </script>\n",
              "    </div>\n",
              "  </div>\n",
              "  "
            ]
          },
          "metadata": {},
          "execution_count": 33
        }
      ]
    },
    {
      "cell_type": "markdown",
      "source": [
        "##Well Come Visitors..."
      ],
      "metadata": {
        "id": "Tec87CPwt2Vs"
      }
    }
  ],
  "metadata": {
    "colab": {
      "provenance": [],
      "toc_visible": true
    },
    "kernelspec": {
      "name": "python3",
      "display_name": "Python 3"
    },
    "accelerator": "GPU"
  },
  "nbformat": 4,
  "nbformat_minor": 0
}